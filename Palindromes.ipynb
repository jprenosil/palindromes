{
  "nbformat": 4,
  "nbformat_minor": 0,
  "metadata": {
    "colab": {
      "name": "Palindromes.ipynb",
      "version": "0.3.2",
      "provenance": [],
      "collapsed_sections": [],
      "include_colab_link": true
    },
    "kernelspec": {
      "name": "python3",
      "display_name": "Python 3"
    }
  },
  "cells": [
    {
      "cell_type": "markdown",
      "metadata": {
        "id": "view-in-github",
        "colab_type": "text"
      },
      "source": [
        "<a href=\"https://colab.research.google.com/github/jprenosil/palindromes/blob/master/Palindromes.ipynb\" target=\"_parent\"><img src=\"https://colab.research.google.com/assets/colab-badge.svg\" alt=\"Open In Colab\"/></a>"
      ]
    },
    {
      "metadata": {
        "id": "moW3HNe80M83",
        "colab_type": "code",
        "colab": {}
      },
      "cell_type": "code",
      "source": [
        "!pip install --upgrade -q gspread"
      ],
      "execution_count": 0,
      "outputs": []
    },
    {
      "metadata": {
        "id": "gfIHjOhI0M8G",
        "colab_type": "code",
        "colab": {
          "base_uri": "https://localhost:8080/",
          "height": 233
        },
        "outputId": "dfc4d1da-79f3-42d7-8846-f2070d56ee6b"
      },
      "cell_type": "code",
      "source": [
        "from google.colab import auth\n",
        "auth.authenticate_user()\n",
        "\n",
        "import gspread\n",
        "from oauth2client.client import GoogleCredentials\n",
        "\n",
        "gc = gspread.authorize(GoogleCredentials.get_application_default())\n",
        "\n",
        "worksheet = gc.open('palindromes').sheet1\n",
        "\n",
        "# get_all_values gives a list of rows.\n",
        "rows = worksheet.get_all_values()\n",
        "print(rows)\n",
        "\n",
        "# Convert to a DataFrame and render.\n",
        "import pandas as pd\n",
        "pd.DataFrame.from_records(rows)"
      ],
      "execution_count": 9,
      "outputs": [
        {
          "output_type": "stream",
          "text": [
            "[['Kent'], ['Mom'], ['taco cat'], ['Mr Owl Ate My Metal Worm'], ['Dammit I\\'m mad.\\nEvil is a deed as I live.\\nGod, am I reviled? I rise, my bed on a sun, I melt.\\nTo be not one man emanating is sad. I piss.\\nAlas, it is so late. Who stops to help?\\nMan, it is hot. I\\'m in it. I tell.\\nI am not a devil. I level \"Mad Dog\".\\nAh, say burning is, as a deified gulp,\\nIn my halo of a mired rum tin.\\nI erase many men. Oh, to be man, a sin.\\nIs evil in a clam? In a trap?\\nNo. It is open. On it I was stuck.\\nRats peed on hope. Elsewhere dips a web.\\nBe still if I fill its ebb.\\nEw, a spider… eh?\\nWe sleep. Oh no!\\nDeep, stark cuts saw it in one position.\\nPart animal, can I live? Sin is a name.\\nBoth, one… my names are in it.\\nMurder? I\\'m a fool.\\nA hymn I plug, deified as a sign in ruby ash,\\nA Goddam level I lived at.\\nOn mail let it in. I\\'m it.\\nOh, sit in ample hot spots. Oh wet!\\nA loss it is alas (sip). I\\'d assign it a name.\\nName not one bottle minus an ode by me:\\n\"Sir, I deliver. I\\'m a dog\"\\nEvil is a deed as I live.\\nDammit I\\'m mad.']]\n"
          ],
          "name": "stdout"
        },
        {
          "output_type": "execute_result",
          "data": {
            "text/html": [
              "<div>\n",
              "<style scoped>\n",
              "    .dataframe tbody tr th:only-of-type {\n",
              "        vertical-align: middle;\n",
              "    }\n",
              "\n",
              "    .dataframe tbody tr th {\n",
              "        vertical-align: top;\n",
              "    }\n",
              "\n",
              "    .dataframe thead th {\n",
              "        text-align: right;\n",
              "    }\n",
              "</style>\n",
              "<table border=\"1\" class=\"dataframe\">\n",
              "  <thead>\n",
              "    <tr style=\"text-align: right;\">\n",
              "      <th></th>\n",
              "      <th>0</th>\n",
              "    </tr>\n",
              "  </thead>\n",
              "  <tbody>\n",
              "    <tr>\n",
              "      <th>0</th>\n",
              "      <td>Kent</td>\n",
              "    </tr>\n",
              "    <tr>\n",
              "      <th>1</th>\n",
              "      <td>Mom</td>\n",
              "    </tr>\n",
              "    <tr>\n",
              "      <th>2</th>\n",
              "      <td>taco cat</td>\n",
              "    </tr>\n",
              "    <tr>\n",
              "      <th>3</th>\n",
              "      <td>Mr Owl Ate My Metal Worm</td>\n",
              "    </tr>\n",
              "    <tr>\n",
              "      <th>4</th>\n",
              "      <td>Dammit I'm mad.\\nEvil is a deed as I live.\\nGo...</td>\n",
              "    </tr>\n",
              "  </tbody>\n",
              "</table>\n",
              "</div>"
            ],
            "text/plain": [
              "                                                   0\n",
              "0                                               Kent\n",
              "1                                                Mom\n",
              "2                                           taco cat\n",
              "3                           Mr Owl Ate My Metal Worm\n",
              "4  Dammit I'm mad.\\nEvil is a deed as I live.\\nGo..."
            ]
          },
          "metadata": {
            "tags": []
          },
          "execution_count": 9
        }
      ]
    },
    {
      "metadata": {
        "id": "bF2K0DY312Er",
        "colab_type": "code",
        "outputId": "b89bbe8c-7426-4519-ac6b-b6cc9aba14c6",
        "colab": {
          "base_uri": "https://localhost:8080/",
          "height": 477
        }
      },
      "cell_type": "code",
      "source": [
        "import re\n",
        "for row in rows:\n",
        "  processed_row = row[0]\n",
        "  cleaned_row = re.sub('\\W+','', processed_row)\n",
        "  reversed_row = cleaned_row[::-1]\n",
        "  if cleaned_row == reversed_row:\n",
        "    print(\"True-FullCaseMatch\")\n",
        "  elif cleaned_row.lower() == reversed_row.lower():\n",
        "    print(\"True-CaseMisMatch\")\n",
        "  else:\n",
        "    print(\"False\")\n",
        "  print(cleaned_row)\n",
        "  print(reversed_row)\n",
        "  print(\"\\n\")"
      ],
      "execution_count": 10,
      "outputs": [
        {
          "output_type": "stream",
          "text": [
            "False\n",
            "Kent\n",
            "tneK\n",
            "\n",
            "\n",
            "True-CaseMisMatch\n",
            "Mom\n",
            "moM\n",
            "\n",
            "\n",
            "True-FullCaseMatch\n",
            "tacocat\n",
            "tacocat\n",
            "\n",
            "\n",
            "True-CaseMisMatch\n",
            "MrOwlAteMyMetalWorm\n",
            "mroWlateMyMetAlwOrM\n",
            "\n",
            "\n",
            "True-CaseMisMatch\n",
            "DammitImmadEvilisadeedasIliveGodamIreviledIrisemybedonasunImeltTobenotonemanemanatingissadIpissAlasitissolateWhostopstohelpManitishotIminitItellIamnotadevilIlevelMadDogAhsayburningisasadeifiedgulpInmyhaloofamiredrumtinIerasemanymenOhtobemanasinIsevilinaclamInatrapNoItisopenOnitIwasstuckRatspeedonhopeElsewheredipsawebBestillifIfillitsebbEwaspiderehWesleepOhnoDeepstarkcutssawitinonepositionPartanimalcanIliveSinisanameBothonemynamesareinitMurderImafoolAhymnIplugdeifiedasasigninrubyashAGoddamlevelIlivedatOnmailletitinImitOhsitinamplehotspotsOhwetAlossitisalassipIdassignitanameNamenotonebottleminusanodebymeSirIdeliverImadogEvilisadeedasIliveDammitImmad\n",
            "dammItimmaDevilIsadeedasilivEgodamIreviledIriSemybedonasunimelttobenotonemaNemanatingissadIpissalasitissolAtewhOstopstohelpmanitishOtimInititelliamnOtadevilIlevelmaddoGAhsayburningisasadeifiedgulpInmyhAloofamIredruMtinierasemanymenohtoBemanasiniSevilInaclaminatraPnoitisopenonitiwasstuckratspeeDonhOpeelseWheredipsawEbbestillifIfillitseBbewaspiderehweslEepohnodeepstaRkcutssawItinOnepositIoNpartanImalcanilivesInisanamebothOnemynamesareInitmurderimafoolahymnIplugdeifiedasasigninrubyashAgoDdaMlevelIlivedatonmaIlletItinimItohsitinaMplehotspotsohWetalossitisalAssipIdassignitanamenamenotoneboTtlemInusanodebymesirIdeliverImadoGevilIsadeedasilivEdammItimmaD\n",
            "\n",
            "\n"
          ],
          "name": "stdout"
        }
      ]
    },
    {
      "metadata": {
        "id": "Z36C6IBp3BrL",
        "colab_type": "code",
        "colab": {}
      },
      "cell_type": "code",
      "source": [
        ""
      ],
      "execution_count": 0,
      "outputs": []
    }
  ]
}